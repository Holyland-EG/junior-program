{
 "cells": [
  {
   "cell_type": "code",
   "execution_count": 27,
   "metadata": {},
   "outputs": [],
   "source": [
    "# Импорт всех нужных библиотек\n",
    "import pandas as pd  \n",
    "from sklearn import datasets\n",
    "from sklearn.metrics import classification_report  \n",
    "from sklearn.metrics import confusion_matrix  \n",
    "from sklearn.metrics import accuracy_score  \n",
    "from sklearn.neighbors import KNeighborsClassifier  \n",
    "from sklearn.svm import SVC  \n",
    "from sklearn.model_selection import train_test_split"
   ]
  },
  {
   "cell_type": "code",
   "execution_count": 12,
   "metadata": {},
   "outputs": [],
   "source": [
    "data = pd.read_csv('iris.csv')"
   ]
  },
  {
   "cell_type": "code",
   "execution_count": 13,
   "metadata": {},
   "outputs": [
    {
     "name": "stdout",
     "output_type": "stream",
     "text": [
      "   Id  SepalLengthCm  SepalWidthCm  PetalLengthCm  PetalWidthCm      Species\n",
      "0   1            5.1           3.5            1.4           0.2  Iris-setosa\n",
      "1   2            4.9           3.0            1.4           0.2  Iris-setosa\n",
      "2   3            4.7           3.2            1.3           0.2  Iris-setosa\n",
      "3   4            4.6           3.1            1.5           0.2  Iris-setosa\n",
      "4   5            5.0           3.6            1.4           0.2  Iris-setosa\n"
     ]
    }
   ],
   "source": [
    "# Проверяем, всё ли правильно загрузилось\n",
    "\n",
    "print(data.head(5))  "
   ]
  },
  {
   "cell_type": "code",
   "execution_count": 15,
   "metadata": {},
   "outputs": [],
   "source": [
    "del data['Id']"
   ]
  },
  {
   "cell_type": "code",
   "execution_count": 51,
   "metadata": {},
   "outputs": [
    {
     "name": "stdout",
     "output_type": "stream",
     "text": [
      "    SepalLengthCm  SepalWidthCm  PetalLengthCm  PetalWidthCm      Species\n",
      "0             5.1           3.5            1.4           0.2  Iris-setosa\n",
      "1             4.9           3.0            1.4           0.2  Iris-setosa\n",
      "2             4.7           3.2            1.3           0.2  Iris-setosa\n",
      "3             4.6           3.1            1.5           0.2  Iris-setosa\n",
      "4             5.0           3.6            1.4           0.2  Iris-setosa\n",
      "5             5.4           3.9            1.7           0.4  Iris-setosa\n",
      "6             4.6           3.4            1.4           0.3  Iris-setosa\n",
      "7             5.0           3.4            1.5           0.2  Iris-setosa\n",
      "8             4.4           2.9            1.4           0.2  Iris-setosa\n",
      "9             4.9           3.1            1.5           0.1  Iris-setosa\n",
      "10            5.4           3.7            1.5           0.2  Iris-setosa\n",
      "11            4.8           3.4            1.6           0.2  Iris-setosa\n",
      "12            4.8           3.0            1.4           0.1  Iris-setosa\n",
      "13            4.3           3.0            1.1           0.1  Iris-setosa\n",
      "14            5.8           4.0            1.2           0.2  Iris-setosa\n",
      "15            5.7           4.4            1.5           0.4  Iris-setosa\n",
      "16            5.4           3.9            1.3           0.4  Iris-setosa\n",
      "17            5.1           3.5            1.4           0.3  Iris-setosa\n",
      "18            5.7           3.8            1.7           0.3  Iris-setosa\n",
      "19            5.1           3.8            1.5           0.3  Iris-setosa\n",
      "20            5.4           3.4            1.7           0.2  Iris-setosa\n",
      "21            5.1           3.7            1.5           0.4  Iris-setosa\n",
      "22            4.6           3.6            1.0           0.2  Iris-setosa\n",
      "23            5.1           3.3            1.7           0.5  Iris-setosa\n",
      "24            4.8           3.4            1.9           0.2  Iris-setosa\n",
      "25            5.0           3.0            1.6           0.2  Iris-setosa\n",
      "26            5.0           3.4            1.6           0.4  Iris-setosa\n"
     ]
    }
   ],
   "source": [
    "print(data.head(27)) "
   ]
  },
  {
   "cell_type": "code",
   "execution_count": 56,
   "metadata": {},
   "outputs": [
    {
     "name": "stdout",
     "output_type": "stream",
     "text": [
      "[[5.1 3.5 1.4 0.2]\n",
      " [4.9 3.  1.4 0.2]\n",
      " [4.7 3.2 1.3 0.2]\n",
      " [4.6 3.1 1.5 0.2]\n",
      " [5.  3.6 1.4 0.2]\n",
      " [5.4 3.9 1.7 0.4]\n",
      " [4.6 3.4 1.4 0.3]\n",
      " [5.  3.4 1.5 0.2]\n",
      " [4.4 2.9 1.4 0.2]\n",
      " [4.9 3.1 1.5 0.1]\n",
      " [5.4 3.7 1.5 0.2]\n",
      " [4.8 3.4 1.6 0.2]\n",
      " [4.8 3.  1.4 0.1]\n",
      " [4.3 3.  1.1 0.1]\n",
      " [5.8 4.  1.2 0.2]\n",
      " [5.7 4.4 1.5 0.4]\n",
      " [5.4 3.9 1.3 0.4]\n",
      " [5.1 3.5 1.4 0.3]\n",
      " [5.7 3.8 1.7 0.3]\n",
      " [5.1 3.8 1.5 0.3]\n",
      " [5.4 3.4 1.7 0.2]\n",
      " [5.1 3.7 1.5 0.4]\n",
      " [4.6 3.6 1.  0.2]\n",
      " [5.1 3.3 1.7 0.5]\n",
      " [4.8 3.4 1.9 0.2]\n",
      " [5.  3.  1.6 0.2]\n",
      " [5.  3.4 1.6 0.4]\n",
      " [5.2 3.5 1.5 0.2]\n",
      " [5.2 3.4 1.4 0.2]\n",
      " [4.7 3.2 1.6 0.2]\n",
      " [4.8 3.1 1.6 0.2]\n",
      " [5.4 3.4 1.5 0.4]\n",
      " [5.2 4.1 1.5 0.1]\n",
      " [5.5 4.2 1.4 0.2]\n",
      " [4.9 3.1 1.5 0.1]\n",
      " [5.  3.2 1.2 0.2]\n",
      " [5.5 3.5 1.3 0.2]\n",
      " [4.9 3.1 1.5 0.1]\n",
      " [4.4 3.  1.3 0.2]\n",
      " [5.1 3.4 1.5 0.2]\n",
      " [5.  3.5 1.3 0.3]\n",
      " [4.5 2.3 1.3 0.3]\n",
      " [4.4 3.2 1.3 0.2]\n",
      " [5.  3.5 1.6 0.6]\n",
      " [5.1 3.8 1.9 0.4]\n",
      " [4.8 3.  1.4 0.3]\n",
      " [5.1 3.8 1.6 0.2]\n",
      " [4.6 3.2 1.4 0.2]\n",
      " [5.3 3.7 1.5 0.2]\n",
      " [5.  3.3 1.4 0.2]\n",
      " [7.  3.2 4.7 1.4]\n",
      " [6.4 3.2 4.5 1.5]\n",
      " [6.9 3.1 4.9 1.5]\n",
      " [5.5 2.3 4.  1.3]\n",
      " [6.5 2.8 4.6 1.5]\n",
      " [5.7 2.8 4.5 1.3]\n",
      " [6.3 3.3 4.7 1.6]\n",
      " [4.9 2.4 3.3 1. ]\n",
      " [6.6 2.9 4.6 1.3]\n",
      " [5.2 2.7 3.9 1.4]\n",
      " [5.  2.  3.5 1. ]\n",
      " [5.9 3.  4.2 1.5]\n",
      " [6.  2.2 4.  1. ]\n",
      " [6.1 2.9 4.7 1.4]\n",
      " [5.6 2.9 3.6 1.3]\n",
      " [6.7 3.1 4.4 1.4]\n",
      " [5.6 3.  4.5 1.5]\n",
      " [5.8 2.7 4.1 1. ]\n",
      " [6.2 2.2 4.5 1.5]\n",
      " [5.6 2.5 3.9 1.1]\n",
      " [5.9 3.2 4.8 1.8]\n",
      " [6.1 2.8 4.  1.3]\n",
      " [6.3 2.5 4.9 1.5]\n",
      " [6.1 2.8 4.7 1.2]\n",
      " [6.4 2.9 4.3 1.3]\n",
      " [6.6 3.  4.4 1.4]\n",
      " [6.8 2.8 4.8 1.4]\n",
      " [6.7 3.  5.  1.7]\n",
      " [6.  2.9 4.5 1.5]\n",
      " [5.7 2.6 3.5 1. ]\n",
      " [5.5 2.4 3.8 1.1]\n",
      " [5.5 2.4 3.7 1. ]\n",
      " [5.8 2.7 3.9 1.2]\n",
      " [6.  2.7 5.1 1.6]\n",
      " [5.4 3.  4.5 1.5]\n",
      " [6.  3.4 4.5 1.6]\n",
      " [6.7 3.1 4.7 1.5]\n",
      " [6.3 2.3 4.4 1.3]\n",
      " [5.6 3.  4.1 1.3]\n",
      " [5.5 2.5 4.  1.3]\n",
      " [5.5 2.6 4.4 1.2]\n",
      " [6.1 3.  4.6 1.4]\n",
      " [5.8 2.6 4.  1.2]\n",
      " [5.  2.3 3.3 1. ]\n",
      " [5.6 2.7 4.2 1.3]\n",
      " [5.7 3.  4.2 1.2]\n",
      " [5.7 2.9 4.2 1.3]\n",
      " [6.2 2.9 4.3 1.3]\n",
      " [5.1 2.5 3.  1.1]\n",
      " [5.7 2.8 4.1 1.3]\n",
      " [6.3 3.3 6.  2.5]\n",
      " [5.8 2.7 5.1 1.9]\n",
      " [7.1 3.  5.9 2.1]\n",
      " [6.3 2.9 5.6 1.8]\n",
      " [6.5 3.  5.8 2.2]\n",
      " [7.6 3.  6.6 2.1]\n",
      " [4.9 2.5 4.5 1.7]\n",
      " [7.3 2.9 6.3 1.8]\n",
      " [6.7 2.5 5.8 1.8]\n",
      " [7.2 3.6 6.1 2.5]\n",
      " [6.5 3.2 5.1 2. ]\n",
      " [6.4 2.7 5.3 1.9]\n",
      " [6.8 3.  5.5 2.1]\n",
      " [5.7 2.5 5.  2. ]\n",
      " [5.8 2.8 5.1 2.4]\n",
      " [6.4 3.2 5.3 2.3]\n",
      " [6.5 3.  5.5 1.8]\n",
      " [7.7 3.8 6.7 2.2]\n",
      " [7.7 2.6 6.9 2.3]\n",
      " [6.  2.2 5.  1.5]\n",
      " [6.9 3.2 5.7 2.3]\n",
      " [5.6 2.8 4.9 2. ]\n",
      " [7.7 2.8 6.7 2. ]\n",
      " [6.3 2.7 4.9 1.8]\n",
      " [6.7 3.3 5.7 2.1]\n",
      " [7.2 3.2 6.  1.8]\n",
      " [6.2 2.8 4.8 1.8]\n",
      " [6.1 3.  4.9 1.8]\n",
      " [6.4 2.8 5.6 2.1]\n",
      " [7.2 3.  5.8 1.6]\n",
      " [7.4 2.8 6.1 1.9]\n",
      " [7.9 3.8 6.4 2. ]\n",
      " [6.4 2.8 5.6 2.2]\n",
      " [6.3 2.8 5.1 1.5]\n",
      " [6.1 2.6 5.6 1.4]\n",
      " [7.7 3.  6.1 2.3]\n",
      " [6.3 3.4 5.6 2.4]\n",
      " [6.4 3.1 5.5 1.8]\n",
      " [6.  3.  4.8 1.8]\n",
      " [6.9 3.1 5.4 2.1]\n",
      " [6.7 3.1 5.6 2.4]\n",
      " [6.9 3.1 5.1 2.3]\n",
      " [5.8 2.7 5.1 1.9]\n",
      " [6.8 3.2 5.9 2.3]\n",
      " [6.7 3.3 5.7 2.5]\n",
      " [6.7 3.  5.2 2.3]\n",
      " [6.3 2.5 5.  1.9]\n",
      " [6.5 3.  5.2 2. ]\n",
      " [6.2 3.4 5.4 2.3]\n",
      " [5.9 3.  5.1 1.8]]\n"
     ]
    }
   ],
   "source": [
    "# \".iloc\" принимает row_indexer, column_indexer  \n",
    "x = data.iloc[:,:-1].values  \n",
    "# Альтернативный способ выбора нужных столбцов:\n",
    "# x = data.iloc['SepalLengthCm', 'SepalWidthCm', 'PetalLengthCm']  \n",
    "# Теперь выделим нужный столбец\n",
    "y = data['Species'] \n",
    "print(x)"
   ]
  },
  {
   "cell_type": "code",
   "execution_count": 31,
   "metadata": {},
   "outputs": [],
   "source": [
    "# Деление на тренировочный и тестовый наборы\n",
    "# test_size показывает, какой объем данных нужно выделить для тестового набора\n",
    "# Random_state — просто сид для случайной генерации\n",
    "# Этот параметр можно использовать для воссоздания определённого результата:\n",
    "x_train, x_test, y_train, y_test = train_test_split(x, y, test_size=0.20, random_state=27)  "
   ]
  },
  {
   "cell_type": "code",
   "execution_count": 32,
   "metadata": {},
   "outputs": [
    {
     "name": "stdout",
     "output_type": "stream",
     "text": [
      "[[6.3 2.7 4.9 1.8]\n",
      " [5.  3.5 1.3 0.3]\n",
      " [6.4 2.7 5.3 1.9]\n",
      " [6.2 2.9 4.3 1.3]\n",
      " [6.7 3.1 4.7 1.5]\n",
      " [4.4 3.  1.3 0.2]\n",
      " [6.8 2.8 4.8 1.4]\n",
      " [6.3 2.5 5.  1.9]\n",
      " [5.8 2.7 3.9 1.2]\n",
      " [4.8 3.1 1.6 0.2]\n",
      " [4.6 3.4 1.4 0.3]\n",
      " [6.3 2.9 5.6 1.8]\n",
      " [5.9 3.2 4.8 1.8]\n",
      " [7.2 3.2 6.  1.8]\n",
      " [4.6 3.6 1.  0.2]\n",
      " [6.  2.9 4.5 1.5]\n",
      " [6.8 3.  5.5 2.1]\n",
      " [7.4 2.8 6.1 1.9]\n",
      " [6.1 2.9 4.7 1.4]\n",
      " [5.  3.5 1.6 0.6]\n",
      " [5.4 3.7 1.5 0.2]\n",
      " [5.1 3.5 1.4 0.2]\n",
      " [5.5 2.4 3.8 1.1]\n",
      " [5.2 3.5 1.5 0.2]\n",
      " [6.3 2.3 4.4 1.3]\n",
      " [5.7 3.8 1.7 0.3]\n",
      " [6.7 3.1 5.6 2.4]\n",
      " [4.8 3.4 1.6 0.2]\n",
      " [4.8 3.  1.4 0.3]\n",
      " [6.5 2.8 4.6 1.5]\n",
      " [5.8 2.7 5.1 1.9]\n",
      " [6.2 2.8 4.8 1.8]\n",
      " [5.7 3.  4.2 1.2]\n",
      " [7.1 3.  5.9 2.1]\n",
      " [6.7 3.3 5.7 2.5]\n",
      " [5.5 2.5 4.  1.3]\n",
      " [6.4 3.1 5.5 1.8]\n",
      " [6.4 2.8 5.6 2.2]\n",
      " [4.3 3.  1.1 0.1]\n",
      " [6.9 3.1 5.4 2.1]\n",
      " [5.  3.2 1.2 0.2]\n",
      " [6.5 3.  5.2 2. ]\n",
      " [6.7 3.3 5.7 2.1]\n",
      " [5.1 3.8 1.9 0.4]\n",
      " [4.9 2.4 3.3 1. ]\n",
      " [5.1 3.8 1.6 0.2]\n",
      " [5.  3.4 1.6 0.4]\n",
      " [5.8 4.  1.2 0.2]\n",
      " [5.8 2.7 4.1 1. ]\n",
      " [5.4 3.  4.5 1.5]\n",
      " [6.3 3.4 5.6 2.4]\n",
      " [6.3 3.3 6.  2.5]\n",
      " [4.5 2.3 1.3 0.3]\n",
      " [6.5 3.2 5.1 2. ]\n",
      " [4.9 3.  1.4 0.2]\n",
      " [6.6 3.  4.4 1.4]\n",
      " [5.8 2.8 5.1 2.4]\n",
      " [7.7 3.  6.1 2.3]\n",
      " [7.  3.2 4.7 1.4]\n",
      " [4.9 3.1 1.5 0.1]\n",
      " [5.9 3.  4.2 1.5]\n",
      " [6.8 3.2 5.9 2.3]\n",
      " [5.6 2.9 3.6 1.3]\n",
      " [5.8 2.7 5.1 1.9]\n",
      " [5.  2.  3.5 1. ]\n",
      " [6.2 2.2 4.5 1.5]\n",
      " [5.4 3.9 1.3 0.4]\n",
      " [6.1 2.8 4.7 1.2]\n",
      " [4.7 3.2 1.6 0.2]\n",
      " [4.4 2.9 1.4 0.2]\n",
      " [5.2 3.4 1.4 0.2]\n",
      " [5.  3.4 1.5 0.2]\n",
      " [7.2 3.6 6.1 2.5]\n",
      " [7.3 2.9 6.3 1.8]\n",
      " [5.1 3.5 1.4 0.3]\n",
      " [5.5 2.4 3.7 1. ]\n",
      " [6.9 3.1 4.9 1.5]\n",
      " [6.7 2.5 5.8 1.8]\n",
      " [5.1 3.3 1.7 0.5]\n",
      " [5.7 2.9 4.2 1.3]\n",
      " [5.6 2.8 4.9 2. ]\n",
      " [5.9 3.  5.1 1.8]\n",
      " [4.4 3.2 1.3 0.2]\n",
      " [5.4 3.9 1.7 0.4]\n",
      " [7.9 3.8 6.4 2. ]\n",
      " [5.7 2.8 4.1 1.3]\n",
      " [5.3 3.7 1.5 0.2]\n",
      " [6.1 2.6 5.6 1.4]\n",
      " [5.6 3.  4.5 1.5]\n",
      " [5.5 4.2 1.4 0.2]\n",
      " [6.  2.2 5.  1.5]\n",
      " [5.5 2.3 4.  1.3]\n",
      " [6.5 3.  5.8 2.2]\n",
      " [5.2 2.7 3.9 1.4]\n",
      " [5.1 3.4 1.5 0.2]\n",
      " [5.1 2.5 3.  1.1]\n",
      " [5.  2.3 3.3 1. ]\n",
      " [6.1 2.8 4.  1.3]\n",
      " [6.  2.2 4.  1. ]\n",
      " [7.7 2.6 6.9 2.3]\n",
      " [4.6 3.1 1.5 0.2]\n",
      " [6.4 3.2 4.5 1.5]\n",
      " [6.  3.4 4.5 1.6]\n",
      " [5.2 4.1 1.5 0.1]\n",
      " [5.7 2.6 3.5 1. ]\n",
      " [5.7 4.4 1.5 0.4]\n",
      " [6.  2.7 5.1 1.6]\n",
      " [5.  3.6 1.4 0.2]\n",
      " [6.  3.  4.8 1.8]\n",
      " [6.1 3.  4.9 1.8]\n",
      " [4.7 3.2 1.3 0.2]\n",
      " [5.7 2.5 5.  2. ]\n",
      " [6.9 3.1 5.1 2.3]\n",
      " [5.  3.  1.6 0.2]\n",
      " [4.8 3.4 1.9 0.2]\n",
      " [4.9 3.1 1.5 0.1]\n",
      " [6.3 3.3 4.7 1.6]\n",
      " [5.4 3.4 1.5 0.4]\n",
      " [6.3 2.5 4.9 1.5]\n",
      " [5.1 3.8 1.5 0.3]]\n",
      "123     Iris-virginica\n",
      "40         Iris-setosa\n",
      "111     Iris-virginica\n",
      "97     Iris-versicolor\n",
      "86     Iris-versicolor\n",
      "            ...       \n",
      "37         Iris-setosa\n",
      "56     Iris-versicolor\n",
      "31         Iris-setosa\n",
      "72     Iris-versicolor\n",
      "19         Iris-setosa\n",
      "Name: Species, Length: 120, dtype: object\n"
     ]
    }
   ],
   "source": [
    "print(X_train)  \n",
    "print(y_train) "
   ]
  },
  {
   "cell_type": "code",
   "execution_count": 36,
   "metadata": {},
   "outputs": [],
   "source": [
    "# Экземпляр метода опорного метода и ближайших соседей\n",
    "SVC_model = SVC(gamma = 'auto')  \n",
    "# В KNN-модели нужно указать параметр n_neighbors\n",
    "# Это число точек, на которое будет смотреть \n",
    "# классификатор, чтобы определить, к какому классу принадлежит новая точка\n",
    "KNN_model = KNeighborsClassifier(n_neighbors=5) "
   ]
  },
  {
   "cell_type": "code",
   "execution_count": 41,
   "metadata": {},
   "outputs": [
    {
     "data": {
      "text/plain": [
       "SVC(C=1.0, cache_size=200, class_weight=None, coef0=0.0,\n",
       "    decision_function_shape='ovr', degree=3, gamma='auto', kernel='rbf',\n",
       "    max_iter=-1, probability=False, random_state=None, shrinking=True,\n",
       "    tol=0.001, verbose=False)"
      ]
     },
     "execution_count": 41,
     "metadata": {},
     "output_type": "execute_result"
    }
   ],
   "source": [
    "# Обучение двух классификаторов\n",
    "SVC_model.fit(x_train, y_train) "
   ]
  },
  {
   "cell_type": "code",
   "execution_count": 42,
   "metadata": {},
   "outputs": [
    {
     "data": {
      "text/plain": [
       "KNeighborsClassifier(algorithm='auto', leaf_size=30, metric='minkowski',\n",
       "                     metric_params=None, n_jobs=None, n_neighbors=5, p=2,\n",
       "                     weights='uniform')"
      ]
     },
     "execution_count": 42,
     "metadata": {},
     "output_type": "execute_result"
    }
   ],
   "source": [
    "KNN_model.fit(x_train, y_train)"
   ]
  },
  {
   "cell_type": "code",
   "execution_count": 43,
   "metadata": {},
   "outputs": [],
   "source": [
    "SVC_prediction = SVC_model.predict(x_test) "
   ]
  },
  {
   "cell_type": "code",
   "execution_count": 44,
   "metadata": {},
   "outputs": [],
   "source": [
    "KNN_prediction = KNN_model.predict(x_test)"
   ]
  },
  {
   "cell_type": "code",
   "execution_count": 45,
   "metadata": {},
   "outputs": [
    {
     "name": "stdout",
     "output_type": "stream",
     "text": [
      "0.9333333333333333\n",
      "0.9666666666666667\n"
     ]
    }
   ],
   "source": [
    "# Оценка точности — простейший вариант оценки работы классификатора\n",
    "print(accuracy_score(SVC_prediction, y_test))  \n",
    "print(accuracy_score(KNN_prediction, y_test))  "
   ]
  },
  {
   "cell_type": "code",
   "execution_count": 48,
   "metadata": {},
   "outputs": [
    {
     "name": "stdout",
     "output_type": "stream",
     "text": [
      "[[ 7  0  0]\n",
      " [ 0 10  1]\n",
      " [ 0  1 11]]\n",
      "                 precision    recall  f1-score   support\n",
      "\n",
      "    Iris-setosa       1.00      1.00      1.00         7\n",
      "Iris-versicolor       1.00      0.92      0.96        12\n",
      " Iris-virginica       0.92      1.00      0.96        11\n",
      "\n",
      "       accuracy                           0.97        30\n",
      "      macro avg       0.97      0.97      0.97        30\n",
      "   weighted avg       0.97      0.97      0.97        30\n",
      "\n"
     ]
    }
   ],
   "source": [
    "# Но матрица неточности и отчёт о классификации дадут больше информации о производительности\n",
    "print(confusion_matrix(SVC_prediction, y_test))  \n",
    "print(classification_report(KNN_prediction, y_test))  "
   ]
  },
  {
   "cell_type": "code",
   "execution_count": null,
   "metadata": {},
   "outputs": [],
   "source": []
  }
 ],
 "metadata": {
  "kernelspec": {
   "display_name": "Python 3",
   "language": "python",
   "name": "python3"
  },
  "language_info": {
   "codemirror_mode": {
    "name": "ipython",
    "version": 3
   },
   "file_extension": ".py",
   "mimetype": "text/x-python",
   "name": "python",
   "nbconvert_exporter": "python",
   "pygments_lexer": "ipython3",
   "version": "3.7.4"
  },
  "toc": {
   "base_numbering": 1,
   "nav_menu": {},
   "number_sections": true,
   "sideBar": true,
   "skip_h1_title": false,
   "title_cell": "Table of Contents",
   "title_sidebar": "Contents",
   "toc_cell": false,
   "toc_position": {},
   "toc_section_display": true,
   "toc_window_display": false
  },
  "varInspector": {
   "cols": {
    "lenName": 16,
    "lenType": 16,
    "lenVar": 40
   },
   "kernels_config": {
    "python": {
     "delete_cmd_postfix": "",
     "delete_cmd_prefix": "del ",
     "library": "var_list.py",
     "varRefreshCmd": "print(var_dic_list())"
    },
    "r": {
     "delete_cmd_postfix": ") ",
     "delete_cmd_prefix": "rm(",
     "library": "var_list.r",
     "varRefreshCmd": "cat(var_dic_list()) "
    }
   },
   "types_to_exclude": [
    "module",
    "function",
    "builtin_function_or_method",
    "instance",
    "_Feature"
   ],
   "window_display": false
  }
 },
 "nbformat": 4,
 "nbformat_minor": 2
}
