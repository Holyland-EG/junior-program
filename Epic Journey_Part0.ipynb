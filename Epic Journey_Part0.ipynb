{
 "cells": [
  {
   "cell_type": "markdown",
   "metadata": {},
   "source": [
    "# План:\n",
    "1. Python\n",
    "2. Numpy\n",
    "3. Pandas\n",
    "4. Regexp + regexp with dataframes\n",
    "5. Texts\n",
    "6. Matplotlib, Seaborn\n",
    "7. Classification, clustering, binary, multiclass, multilabel\n",
    "8. Metrics\n",
    "9. Feature extraction\n",
    "10. Pyspark/sql"
   ]
  },
  {
   "cell_type": "code",
   "execution_count": null,
   "metadata": {},
   "outputs": [],
   "source": [
    "! pip install numpy"
   ]
  },
  {
   "cell_type": "markdown",
   "metadata": {},
   "source": [
    "<img src=\"gifs/start.gif\" width=\"400\">"
   ]
  },
  {
   "cell_type": "markdown",
   "metadata": {},
   "source": [
    "# Python\n",
    "\n",
    "* Целая куча упражнений на типы данных\\операторы и функции\n",
    "\n",
    "https://www.w3resource.com/python-exercises/"
   ]
  },
  {
   "cell_type": "markdown",
   "metadata": {},
   "source": [
    "Типы данных:\n",
    "    * Числа (7382, 3.14, 3+4j, Decimal, Fraction)\n",
    "    * Строки ('net', \"your's\", u'радость')\n",
    "    * Списки ([1, [2, 'three'], 4])\n",
    "    * Словари ({'Alex': 2, 'Brian': 4})\n",
    "    * Кортежи ('Leo', 21.7, 'single')\n",
    "    * Множества (set(1,2,3), {'a', 'b', 'c'})\n",
    "    * Файлы (open('myfile', 'r'))"
   ]
  },
  {
   "cell_type": "markdown",
   "metadata": {},
   "source": [
    "1. Склеить 3 подстроки \"ada\", \"lovelace\", \"was considered the world's first computer programmer.\". Первые две строки сделать с большой буквы.  (★☆☆)"
   ]
  },
  {
   "cell_type": "code",
   "execution_count": 160,
   "metadata": {},
   "outputs": [
    {
     "name": "stdout",
     "output_type": "stream",
     "text": [
      "Ada Lovelace was considered the world's first computer programmer. \n"
     ]
    }
   ],
   "source": [
    "s1 = 'ada '\n",
    "s2 = 'lovelace'\n",
    "s3 = \" was considered the world's first computer programmer. \"\n",
    "s1 = s1.title()\n",
    "s2 = s2.title()\n",
    "print(s1+s2+s3)"
   ]
  },
  {
   "cell_type": "markdown",
   "metadata": {},
   "source": [
    "2. Удаление лишних пробельных символов справа, слева, с обоих сторон  (☆☆☆)"
   ]
  },
  {
   "cell_type": "code",
   "execution_count": 162,
   "metadata": {},
   "outputs": [
    {
     "name": "stdout",
     "output_type": "stream",
     "text": [
      "was considered the world's first computer programmer. \n",
      " was considered the world's first computer programmer.\n",
      "was considered the world's first computer programmer.\n"
     ]
    }
   ],
   "source": [
    "print(s3.lstrip())\n",
    "print(s3.rstrip())\n",
    "print(s3.strip())"
   ]
  },
  {
   "cell_type": "markdown",
   "metadata": {},
   "source": [
    "3. Найти первое вхождение в строку подстроки (☆☆☆)"
   ]
  },
  {
   "cell_type": "code",
   "execution_count": 168,
   "metadata": {},
   "outputs": [
    {
     "data": {
      "text/plain": [
       "7"
      ]
     },
     "execution_count": 168,
     "metadata": {},
     "output_type": "execute_result"
    }
   ],
   "source": [
    "s1=\"But if you stick with me, I’m gonna accomplish great things, Morty, and you’re gonna be part of ’em.\"\n",
    "s2=\"you\"\n",
    "\n",
    "s1.find(s2)"
   ]
  },
  {
   "cell_type": "markdown",
   "metadata": {},
   "source": [
    "* isdigit - состоит ли строка из цифр;\n",
    "* isalpha - состоит ли строка из букв;\n",
    "* isalnum - состоит ли строка из цифр или букв;\n",
    "* islower - состоит ли строка из символов в нижнем регистре;\n",
    "* isupper - состоит ли строка из символов в верхнем регистре;\n",
    "* istitle - начинаются ли слова в строке с заглавной буквы."
   ]
  },
  {
   "cell_type": "markdown",
   "metadata": {},
   "source": [
    "4. Разбить строку по разделителю (☆☆☆)"
   ]
  },
  {
   "cell_type": "code",
   "execution_count": 171,
   "metadata": {},
   "outputs": [
    {
     "name": "stdout",
     "output_type": "stream",
     "text": [
      "['Holy', 'cow,', 'Rick!', 'I', 'didn’t', 'know', 'hanging', 'out', 'with', 'you', 'was', 'making', 'me', 'smarter!']\n"
     ]
    }
   ],
   "source": [
    "s1=\"Holy#cow,#Rick!#I#didn’t#know#hanging#out#with#you#was#making#me#smarter!\"\n",
    "\n",
    "S = s1.split('#')\n",
    "print(S)"
   ]
  },
  {
   "cell_type": "markdown",
   "metadata": {},
   "source": [
    "5. Полученный массив строк склеить через пробел (★☆☆)"
   ]
  },
  {
   "cell_type": "code",
   "execution_count": 176,
   "metadata": {},
   "outputs": [
    {
     "name": "stdout",
     "output_type": "stream",
     "text": [
      "Holy cow, Rick! I didn’t know hanging out with you was making me smarter! "
     ]
    }
   ],
   "source": [
    "for i in S:\n",
    "        print(i, end=' ')"
   ]
  },
  {
   "cell_type": "markdown",
   "metadata": {},
   "source": [
    "6. Вывести данные из словаря в три строки в виде \"NAME (age AGE) is a JOB\" (★☆☆)\n",
    "\n",
    "(hint: .format())"
   ]
  },
  {
   "cell_type": "code",
   "execution_count": 223,
   "metadata": {},
   "outputs": [
    {
     "name": "stdout",
     "output_type": "stream",
     "text": [
      "Ann (age 29 ) is a Artist\n",
      "Leo (age 54 ) is a Programmer\n",
      "Tiffany (age 43 ) is a Shop Assistant\n"
     ]
    }
   ],
   "source": [
    "personal_data = {1: (\"Ann\", 29, \"Artist\"), \n",
    "               2: (\"Leo\", 54, \"Programmer\"), \n",
    "               3: (\"Tiffany\", 43, \"Shop Assistant\")}\n",
    "\n",
    "P = personal_data.values()\n",
    "for l in P:\n",
    "        print(l[0],\"(age\",l[1],\") is a\",l[2])"
   ]
  },
  {
   "cell_type": "markdown",
   "metadata": {},
   "source": [
    "7. Требуется определить, является ли данный год високосным. (год является високосным, если его номер кратен 4, но не кратен 100, а также если он кратен 400.)  (★★☆)\n",
    "\n",
    "Входные данные: Вводится единственное число - номер года (целое, положительное, не превышает 30000).\n",
    "\n",
    "Выходные данные: Требуется вывести слово YES, если год является високосным и NO - в противном случае."
   ]
  },
  {
   "cell_type": "code",
   "execution_count": 229,
   "metadata": {},
   "outputs": [
    {
     "name": "stdout",
     "output_type": "stream",
     "text": [
      "2019\n",
      "NO\n"
     ]
    }
   ],
   "source": [
    "yeear = int(input())\n",
    "if yeear%4 == 0 and yeear%100 != 0 or  yeear%400 == 0:\n",
    "    print(\"YES\")\n",
    "else:\n",
    "    print(\"NO\")"
   ]
  },
  {
   "cell_type": "markdown",
   "metadata": {},
   "source": [
    "8. Закодируйте каждый элемент списка слов числом, результат сопоставления (слово-число) поместите в словарь.  (★☆☆)"
   ]
  },
  {
   "cell_type": "code",
   "execution_count": 142,
   "metadata": {},
   "outputs": [
    {
     "data": {
      "text/plain": [
       "'Not'"
      ]
     },
     "execution_count": 142,
     "metadata": {},
     "output_type": "execute_result"
    }
   ],
   "source": [
    "words = ['Not', 'my', 'cup', 'of', 'tea']\n",
    "hzzzz"
   ]
  },
  {
   "cell_type": "markdown",
   "metadata": {},
   "source": [
    "9. Удалить второй элемент из списка по индексу\\по значению  (★☆☆)"
   ]
  },
  {
   "cell_type": "code",
   "execution_count": 244,
   "metadata": {},
   "outputs": [
    {
     "data": {
      "text/plain": [
       "['border collie', 'labrador retriever']"
      ]
     },
     "execution_count": 244,
     "metadata": {},
     "output_type": "execute_result"
    }
   ],
   "source": [
    "dogs = ['border collie', 'australian cattle dog', 'labrador retriever']\n",
    "\n",
    "del dogs[1]\n",
    "dogs"
   ]
  },
  {
   "cell_type": "markdown",
   "metadata": {},
   "source": [
    "10. Вывести срез списка с 3 по 5 элемент включительно и все слова перевести в верхний регистр (★☆☆)"
   ]
  },
  {
   "cell_type": "code",
   "execution_count": 268,
   "metadata": {},
   "outputs": [
    {
     "name": "stdout",
     "output_type": "stream",
     "text": [
      "Cattle\n",
      "Dog\n",
      "Labrador\n"
     ]
    }
   ],
   "source": [
    "dogs = ['border', 'collie', 'australian', 'cattle', 'dog', 'labrador', 'retriever']\n",
    "dog = dogs[3:6]\n",
    "\n",
    "for i in dog:\n",
    "    dog = i.title()\n",
    "    print(dog)"
   ]
  },
  {
   "cell_type": "markdown",
   "metadata": {},
   "source": [
    "11. Словарь словарей. Вывести из словаря для каждого питомца его имя, породу, имя владельца, и наличие прививки. Строку вывода формировать через .format() (★☆☆)"
   ]
  },
  {
   "cell_type": "code",
   "execution_count": 24,
   "metadata": {},
   "outputs": [
    {
     "data": {
      "text/plain": [
       "\"Willie: {'kind': 'dog', 'owner': 'eric', 'vaccinated': True}, Walter: {'kind': 'cockroach', 'owner': 'eric', 'vaccinated': False}, Peso: {'kind': 'dog', 'owner': 'chloe', 'vaccinated': True}\""
      ]
     },
     "execution_count": 24,
     "metadata": {},
     "output_type": "execute_result"
    }
   ],
   "source": [
    "pets = {'willie': {'kind': 'dog', 'owner': 'eric', 'vaccinated': True},\n",
    "        'walter': {'kind': 'cockroach', 'owner': 'eric', 'vaccinated': False},\n",
    "        'peso': {'kind': 'dog', 'owner': 'chloe', 'vaccinated': True},\n",
    "        }\n",
    "'Willie: {}, Walter: {}, Peso: {}'.format(pets['willie'],pets['walter'],pets['peso'])"
   ]
  },
  {
   "cell_type": "markdown",
   "metadata": {},
   "source": [
    "12. Проверить является ли множество подмножеством другого множества  (★☆☆)"
   ]
  },
  {
   "cell_type": "code",
   "execution_count": 276,
   "metadata": {},
   "outputs": [
    {
     "data": {
      "text/plain": [
       "True"
      ]
     },
     "execution_count": 276,
     "metadata": {},
     "output_type": "execute_result"
    }
   ],
   "source": [
    "a=set([2, 5, 6])\n",
    "b=set([2, 4, 8, 3, 5, 6])\n",
    "\n",
    "a.issubset(b)"
   ]
  },
  {
   "cell_type": "markdown",
   "metadata": {},
   "source": [
    "13. Объединить несколько множеств (★☆☆)"
   ]
  },
  {
   "cell_type": "code",
   "execution_count": 282,
   "metadata": {},
   "outputs": [
    {
     "data": {
      "text/plain": [
       "{2, 3, 4, 5, 6, 8, 10, 35}"
      ]
     },
     "execution_count": 282,
     "metadata": {},
     "output_type": "execute_result"
    }
   ],
   "source": [
    "a=set([10, 35, 6, 5])\n",
    "b=set([2, 4, 8, 3, 5, 6, 35])\n",
    "q=set([4, 5, 35])\n",
    "\n",
    "a.union(q,b)"
   ]
  },
  {
   "cell_type": "markdown",
   "metadata": {},
   "source": [
    "14. Посчитать пересечение множества b с остальными из предыдущего задания  (★★☆)\n",
    "\n",
    "(hint: set.intersection(other, ...) (или set & other &) )"
   ]
  },
  {
   "cell_type": "code",
   "execution_count": 283,
   "metadata": {},
   "outputs": [
    {
     "data": {
      "text/plain": [
       "{5, 35}"
      ]
     },
     "execution_count": 283,
     "metadata": {},
     "output_type": "execute_result"
    }
   ],
   "source": [
    "b.intersection(a,q)"
   ]
  },
  {
   "cell_type": "markdown",
   "metadata": {},
   "source": [
    "15. Вывести множество из элементов, встречающихся в одном множестве, но не встречающиеся в обоих. (★★☆)\n",
    "\n",
    "(hint: .symmetric_difference())"
   ]
  },
  {
   "cell_type": "code",
   "execution_count": 284,
   "metadata": {},
   "outputs": [
    {
     "data": {
      "text/plain": [
       "{1, 2, 6, 7}"
      ]
     },
     "execution_count": 284,
     "metadata": {},
     "output_type": "execute_result"
    }
   ],
   "source": [
    "a=set([1, 2, 3, 4, 5])\n",
    "b=set([3, 4, 5, 6, 7])\n",
    "\n",
    "a.symmetric_difference(b)"
   ]
  },
  {
   "cell_type": "markdown",
   "metadata": {},
   "source": [
    "16. Предположим, есть файл с данными клиентов. В качестве простого примера воьзьмем txt-файл следующего содержания:\n",
    "\n",
    "    lastname,age,debt,occupation\n",
    "    \n",
    "    Adrianov,25,30000,artist\n",
    "    \n",
    "    Нужно считать файл data/credit_sample.txt.\n",
    "    Сделать словарь вида:\n",
    "        {lastname: (age,debt,occupation)}\n",
    "    \n",
    "    Посчитать сколько уникальных профессий получилось в словаре.\n",
    "    \n",
    "    Результат записать в json (★★★)"
   ]
  },
  {
   "cell_type": "code",
   "execution_count": 39,
   "metadata": {},
   "outputs": [
    {
     "name": "stdout",
     "output_type": "stream",
     "text": [
      "{'Adrianov': ['25', '30000', 'artist'], 'Belkin': ['42', '4000', 'programmer'], 'Koltunov': ['32', '100', 'sportsman'], 'Loptev': ['25', '30000', 'artist'], 'Bobrov': ['42', '4000', 'programmer'], 'Karelin': ['32', '100', 'sportsman']}\n",
      "[['25', '30000', 'artist'], ['42', '4000', 'programmer'], ['32', '100', 'sportsman']]\n"
     ]
    }
   ],
   "source": [
    "newfile = open('file_new', 'w')\n",
    "with open('data/credit_sample.txt') as file:\n",
    "    for line in file:\n",
    "        s = line.replace(',',' ')\n",
    "        newfile.write(s)\n",
    "\n",
    "f = {}\n",
    "n = 1\n",
    "\n",
    "with open('file_new') as file:\n",
    "    for i, line in enumerate(file):\n",
    "        if i >= n:\n",
    "            key, *value = line.split()\n",
    "            f[key] = value\n",
    "print(f)\n",
    "\n",
    "list =[]\n",
    "for val in f.values(): \n",
    "  if val in list: \n",
    "    continue \n",
    "  else:\n",
    "    list.append(val)\n",
    "\n",
    "print(list)"
   ]
  },
  {
   "cell_type": "markdown",
   "metadata": {},
   "source": [
    "### os, sys, datetime"
   ]
  },
  {
   "cell_type": "markdown",
   "metadata": {},
   "source": [
    "17. Получить список файлов в папке gifs/ и оставить только файлы с расширением .gif (★★☆)"
   ]
  },
  {
   "cell_type": "code",
   "execution_count": 91,
   "metadata": {},
   "outputs": [
    {
     "name": "stdout",
     "output_type": "stream",
     "text": [
      "start.gif\n",
      "journey.gif\n",
      "bender.gif\n",
      "inprogress.gif\n"
     ]
    }
   ],
   "source": [
    "import os\n",
    "for file in os.listdir('gifs'):\n",
    "    if file.endswith('.gif'):\n",
    "        print(file)"
   ]
  },
  {
   "cell_type": "markdown",
   "metadata": {},
   "source": [
    "18. Создать папку с названием temp и удалить её (★☆☆)"
   ]
  },
  {
   "cell_type": "code",
   "execution_count": 332,
   "metadata": {},
   "outputs": [],
   "source": [
    "path = \"temp\"    \n",
    "os.mkdir(path)"
   ]
  },
  {
   "cell_type": "code",
   "execution_count": 333,
   "metadata": {},
   "outputs": [],
   "source": [
    "os.rmdir(path)"
   ]
  },
  {
   "cell_type": "markdown",
   "metadata": {},
   "source": [
    "19. Вывести переменные среды (★☆☆)\n",
    "\n",
    "(hint: environ)"
   ]
  },
  {
   "cell_type": "code",
   "execution_count": 335,
   "metadata": {
    "collapsed": true
   },
   "outputs": [
    {
     "name": "stdout",
     "output_type": "stream",
     "text": [
      "environ({'CONDA_SHLVL': '1', 'LS_COLORS': 'rs=0:di=01;34:ln=01;36:mh=00:pi=40;33:so=01;35:do=01;35:bd=40;33;01:cd=40;33;01:or=40;31;01:mi=00:su=37;41:sg=30;43:ca=30;41:tw=30;42:ow=34;42:st=37;44:ex=01;32:*.tar=01;31:*.tgz=01;31:*.arc=01;31:*.arj=01;31:*.taz=01;31:*.lha=01;31:*.lz4=01;31:*.lzh=01;31:*.lzma=01;31:*.tlz=01;31:*.txz=01;31:*.tzo=01;31:*.t7z=01;31:*.zip=01;31:*.z=01;31:*.Z=01;31:*.dz=01;31:*.gz=01;31:*.lrz=01;31:*.lz=01;31:*.lzo=01;31:*.xz=01;31:*.zst=01;31:*.tzst=01;31:*.bz2=01;31:*.bz=01;31:*.tbz=01;31:*.tbz2=01;31:*.tz=01;31:*.deb=01;31:*.rpm=01;31:*.jar=01;31:*.war=01;31:*.ear=01;31:*.sar=01;31:*.rar=01;31:*.alz=01;31:*.ace=01;31:*.zoo=01;31:*.cpio=01;31:*.7z=01;31:*.rz=01;31:*.cab=01;31:*.jpg=01;35:*.jpeg=01;35:*.mjpg=01;35:*.mjpeg=01;35:*.gif=01;35:*.bmp=01;35:*.pbm=01;35:*.pgm=01;35:*.ppm=01;35:*.tga=01;35:*.xbm=01;35:*.xpm=01;35:*.tif=01;35:*.tiff=01;35:*.png=01;35:*.svg=01;35:*.svgz=01;35:*.mng=01;35:*.pcx=01;35:*.mov=01;35:*.mpg=01;35:*.mpeg=01;35:*.m2v=01;35:*.mkv=01;35:*.webm=01;35:*.ogm=01;35:*.mp4=01;35:*.m4v=01;35:*.mp4v=01;35:*.vob=01;35:*.qt=01;35:*.nuv=01;35:*.wmv=01;35:*.asf=01;35:*.rm=01;35:*.rmvb=01;35:*.flc=01;35:*.avi=01;35:*.fli=01;35:*.flv=01;35:*.gl=01;35:*.dl=01;35:*.xcf=01;35:*.xwd=01;35:*.yuv=01;35:*.cgm=01;35:*.emf=01;35:*.ogv=01;35:*.ogx=01;35:*.aac=00;36:*.au=00;36:*.flac=00;36:*.m4a=00;36:*.mid=00;36:*.midi=00;36:*.mka=00;36:*.mp3=00;36:*.mpc=00;36:*.ogg=00;36:*.ra=00;36:*.wav=00;36:*.oga=00;36:*.opus=00;36:*.spx=00;36:*.xspf=00;36:', 'CONDA_EXE': '/home/mvp_dev/anaconda3/bin/conda', 'STY': '16816.pts-1.tksi-mvp0035', 'SSH_CONNECTION': '90.150.144.84 60837 172.31.0.8 9022', 'LANG': 'en_US.UTF-8', 'CONDA_PREFIX': '/home/mvp_dev/anaconda3', 'XDG_SESSION_ID': '56', 'USER': 'mvp_dev', 'PWD': '/mnt/data', 'HOME': '/home/mvp_dev', 'CONDA_PYTHON_EXE': '/home/mvp_dev/anaconda3/bin/python', 'WINDOW': '0', 'SSH_CLIENT': '90.150.144.84 60837 9022', 'CONDA_PROMPT_MODIFIER': '', 'SSH_TTY': '/dev/pts/1', 'MAIL': '/var/mail/mvp_dev', 'SHELL': '/bin/bash', 'TERM': 'xterm-color', 'SHLVL': '2', 'LOGNAME': 'mvp_dev', 'DBUS_SESSION_BUS_ADDRESS': 'unix:path=/run/user/1002/bus', 'XDG_RUNTIME_DIR': '/run/user/1002', 'PATH': '/home/mvp_dev/anaconda3/bin:/usr/local/bin:/usr/bin:/bin:/usr/local/games:/usr/games', 'CONDA_DEFAULT_ENV': 'base', 'TERMCAP': 'SC|screen|VT 100/ANSI X3.64 virtual terminal:\\\\\\n\\t:DO=\\\\E[%dB:LE=\\\\E[%dD:RI=\\\\E[%dC:UP=\\\\E[%dA:bs:bt=\\\\E[Z:\\\\\\n\\t:cd=\\\\E[J:ce=\\\\E[K:cl=\\\\E[H\\\\E[J:cm=\\\\E[%i%d;%dH:ct=\\\\E[3g:\\\\\\n\\t:do=^J:nd=\\\\E[C:pt:rc=\\\\E8:rs=\\\\Ec:sc=\\\\E7:st=\\\\EH:up=\\\\EM:\\\\\\n\\t:le=^H:bl=^G:cr=^M:it#8:ho=\\\\E[H:nw=\\\\EE:ta=^I:is=\\\\E)0:\\\\\\n\\t:li#24:co#80:am:xn:xv:LP:sr=\\\\EM:al=\\\\E[L:AL=\\\\E[%dL:\\\\\\n\\t:cs=\\\\E[%i%d;%dr:dl=\\\\E[M:DL=\\\\E[%dM:dc=\\\\E[P:DC=\\\\E[%dP:\\\\\\n\\t:im=\\\\E[4h:ei=\\\\E[4l:mi:IC=\\\\E[%d@:ks=\\\\E[?1h\\\\E=:\\\\\\n\\t:ke=\\\\E[?1l\\\\E>:vi=\\\\E[?25l:ve=\\\\E[34h\\\\E[?25h:vs=\\\\E[34l:\\\\\\n\\t:ti=\\\\E[?1049h:te=\\\\E[?1049l:us=\\\\E[4m:ue=\\\\E[24m:so=\\\\E[3m:\\\\\\n\\t:se=\\\\E[23m:mb=\\\\E[5m:md=\\\\E[1m:mh=\\\\E[2m:mr=\\\\E[7m:\\\\\\n\\t:me=\\\\E[m:ms:\\\\\\n\\t:Co#8:pa#64:AF=\\\\E[3%dm:AB=\\\\E[4%dm:op=\\\\E[39;49m:AX:\\\\\\n\\t:vb=\\\\Eg:G0:as=\\\\E(0:ae=\\\\E(B:\\\\\\n\\t:ac=\\\\140\\\\140aaffggjjkkllmmnnooppqqrrssttuuvvwwxxyyzz{{||}}~~..--++,,hhII00:\\\\\\n\\t:po=\\\\E[5i:pf=\\\\E[4i:Km=\\\\E[M:k0=\\\\E[10~:k1=\\\\EOP:k2=\\\\EOQ:\\\\\\n\\t:k3=\\\\EOR:k4=\\\\EOS:k5=\\\\E[15~:k6=\\\\E[17~:k7=\\\\E[18~:\\\\\\n\\t:k8=\\\\E[19~:k9=\\\\E[20~:k;=\\\\E[21~:F1=\\\\E[23~:F2=\\\\E[24~:\\\\\\n\\t:F3=\\\\E[1;2P:F4=\\\\E[1;2Q:F5=\\\\E[1;2R:F6=\\\\E[1;2S:\\\\\\n\\t:F7=\\\\E[15;2~:F8=\\\\E[17;2~:F9=\\\\E[18;2~:FA=\\\\E[19;2~:\\\\\\n\\t:FB=\\\\E[20;2~:FC=\\\\E[21;2~:FD=\\\\E[23;2~:FE=\\\\E[24;2~:kb=\\x7f:\\\\\\n\\t:K2=\\\\EOE:kB=\\\\E[Z:kF=\\\\E[1;2B:kR=\\\\E[1;2A:*4=\\\\E[3;2~:\\\\\\n\\t:*7=\\\\E[1;2F:#2=\\\\E[1;2H:#3=\\\\E[2;2~:#4=\\\\E[1;2D:%c=\\\\E[6;2~:\\\\\\n\\t:%e=\\\\E[5;2~:%i=\\\\E[1;2C:kh=\\\\E[1~:@1=\\\\E[1~:kH=\\\\E[4~:\\\\\\n\\t:@7=\\\\E[4~:kN=\\\\E[6~:kP=\\\\E[5~:kI=\\\\E[2~:kD=\\\\E[3~:ku=\\\\EOA:\\\\\\n\\t:kd=\\\\EOB:kr=\\\\EOC:kl=\\\\EOD:km:', '_': '/usr/bin/nohup', 'OLDPWD': '/mnt', 'KERNEL_LAUNCH_TIMEOUT': '40', 'JPY_PARENT_PID': '20787', 'CLICOLOR': '1', 'PAGER': 'cat', 'GIT_PAGER': 'cat', 'MPLBACKEND': 'module://ipykernel.pylab.backend_inline'})\n"
     ]
    }
   ],
   "source": [
    "print(os.environ)"
   ]
  },
  {
   "cell_type": "markdown",
   "metadata": {},
   "source": [
    "20. Как игнорировать warrnings?"
   ]
  },
  {
   "cell_type": "markdown",
   "metadata": {},
   "source": [
    "* Про datetime и timedelta \n",
    "\n",
    "https://www.guru99.com/date-time-and-datetime-classes-in-python.html"
   ]
  },
  {
   "cell_type": "markdown",
   "metadata": {},
   "source": [
    "21. Вывести сегодняшнюю, вчерашнюю и завтрашнюю дату (☆☆☆)"
   ]
  },
  {
   "cell_type": "code",
   "execution_count": 2,
   "metadata": {},
   "outputs": [
    {
     "name": "stdout",
     "output_type": "stream",
     "text": [
      "2019-12-05 08:25:38.193954\n",
      "2019-12-06 08:25:38.193954\n",
      "2019-12-07 08:25:38.193954\n"
     ]
    }
   ],
   "source": [
    "from datetime import datetime, timedelta, date\n",
    "t = datetime.today()\n",
    "h = timedelta(days = 1)\n",
    "y = t - h\n",
    "tw = t + h\n",
    "print(y)\n",
    "print(t)\n",
    "print(tw)"
   ]
  },
  {
   "cell_type": "markdown",
   "metadata": {},
   "source": [
    "22. Вывести день недели сегодняшней даты (★☆☆)"
   ]
  },
  {
   "cell_type": "code",
   "execution_count": 138,
   "metadata": {},
   "outputs": [
    {
     "data": {
      "text/plain": [
       "4"
      ]
     },
     "execution_count": 138,
     "metadata": {},
     "output_type": "execute_result"
    }
   ],
   "source": [
    "datetime.isoweekday(t)"
   ]
  },
  {
   "cell_type": "markdown",
   "metadata": {},
   "source": [
    "23. Получить список дат за предыдущую неделю (★★☆)"
   ]
  },
  {
   "cell_type": "code",
   "execution_count": 4,
   "metadata": {},
   "outputs": [
    {
     "name": "stdout",
     "output_type": "stream",
     "text": [
      "2019-12-01\n",
      "2019-11-30\n",
      "2019-11-29\n",
      "2019-11-28\n",
      "2019-11-27\n",
      "2019-11-26\n",
      "2019-11-25\n"
     ]
    }
   ],
   "source": [
    "for i in range(0,7):\n",
    "    cheburek = timedelta(days = i + datetime.isoweekday(t))\n",
    "    days = date.today() - cheburek\n",
    "    print(days)"
   ]
  },
  {
   "cell_type": "markdown",
   "metadata": {},
   "source": [
    "24. Вывести дату с часами и минутами, отформатировать в формате: 01.12.2019 00:12:54 (★★☆)\n",
    "            \n",
    "(hint: now().strftime())"
   ]
  },
  {
   "cell_type": "code",
   "execution_count": 132,
   "metadata": {},
   "outputs": [
    {
     "data": {
      "text/plain": [
       "'12.05.2019 22:01:38'"
      ]
     },
     "execution_count": 132,
     "metadata": {},
     "output_type": "execute_result"
    }
   ],
   "source": [
    "t.strftime('%m.%d.%Y %H:%M:%S')"
   ]
  },
  {
   "cell_type": "markdown",
   "metadata": {},
   "source": [
    "25. Исходя из текущей даты вычислить дату предыдущего понедельника (★★★)"
   ]
  },
  {
   "cell_type": "code",
   "execution_count": 139,
   "metadata": {},
   "outputs": [
    {
     "name": "stdout",
     "output_type": "stream",
     "text": [
      "2019-11-25 22:01:38.497384\n"
     ]
    }
   ],
   "source": [
    "we = timedelta(weeks = - 1, days = - datetime.isoweekday(t) + 1)\n",
    "mon = t + we\n",
    "print(mon)"
   ]
  },
  {
   "cell_type": "markdown",
   "metadata": {},
   "source": [
    "# Numpy"
   ]
  },
  {
   "cell_type": "markdown",
   "metadata": {},
   "source": [
    "### numpy в картинках (реально лучший):\n",
    "\n",
    "https://jalammar.github.io/visual-numpy/"
   ]
  },
  {
   "cell_type": "code",
   "execution_count": 6,
   "metadata": {},
   "outputs": [],
   "source": [
    "import numpy as np"
   ]
  },
  {
   "cell_type": "markdown",
   "metadata": {},
   "source": [
    "1. Задать нулевой вектор размером 10 (★☆☆)\n",
    "\n",
    "(hint: np.zeros)"
   ]
  },
  {
   "cell_type": "code",
   "execution_count": 10,
   "metadata": {},
   "outputs": [
    {
     "data": {
      "text/plain": [
       "array([0., 0., 0., 0., 0., 0., 0., 0., 0., 0.])"
      ]
     },
     "execution_count": 10,
     "metadata": {},
     "output_type": "execute_result"
    }
   ],
   "source": [
    "z = np.zeros(10)\n",
    "z"
   ]
  },
  {
   "cell_type": "markdown",
   "metadata": {},
   "source": [
    "2. Как найти размер занимаемой памяти любым массивом (★☆☆)\n",
    "\n",
    "(hint: size, itemsize)"
   ]
  },
  {
   "cell_type": "code",
   "execution_count": 8,
   "metadata": {},
   "outputs": [
    {
     "data": {
      "text/plain": [
       "10"
      ]
     },
     "execution_count": 8,
     "metadata": {},
     "output_type": "execute_result"
    }
   ],
   "source": [
    "z.size"
   ]
  },
  {
   "cell_type": "code",
   "execution_count": 9,
   "metadata": {},
   "outputs": [
    {
     "data": {
      "text/plain": [
       "8"
      ]
     },
     "execution_count": 9,
     "metadata": {},
     "output_type": "execute_result"
    }
   ],
   "source": [
    "z.itemsize"
   ]
  },
  {
   "cell_type": "markdown",
   "metadata": {},
   "source": [
    "3. Создать вектор из 10 нулей, кроме пятого элемента, который равен 1 (★☆☆)"
   ]
  },
  {
   "cell_type": "code",
   "execution_count": 12,
   "metadata": {},
   "outputs": [
    {
     "data": {
      "text/plain": [
       "array([0., 0., 0., 0., 0., 1., 0., 0., 0., 0.])"
      ]
     },
     "execution_count": 12,
     "metadata": {},
     "output_type": "execute_result"
    }
   ],
   "source": [
    "one = np.zeros(10)\n",
    "one[5] = 1\n",
    "one"
   ]
  },
  {
   "cell_type": "markdown",
   "metadata": {},
   "source": [
    "4. Создать вектор от 10 до 50 включительно (★☆☆)\n",
    "\n",
    "(hint:np.arange)"
   ]
  },
  {
   "cell_type": "code",
   "execution_count": 17,
   "metadata": {},
   "outputs": [],
   "source": [
    "a = np.arange(10,51)"
   ]
  },
  {
   "cell_type": "markdown",
   "metadata": {},
   "source": [
    "5. Перевернуть вектор (первый элемент будет последним) (★☆☆)"
   ]
  },
  {
   "cell_type": "code",
   "execution_count": 22,
   "metadata": {},
   "outputs": [
    {
     "data": {
      "text/plain": [
       "array([50, 49, 48, 47, 46, 45, 44, 43, 42, 41, 40, 39, 38, 37, 36, 35, 34,\n",
       "       33, 32, 31, 30, 29, 28, 27, 26, 25, 24, 23, 22, 21, 20, 19, 18, 17,\n",
       "       16, 15, 14, 13, 12, 11, 10])"
      ]
     },
     "execution_count": 22,
     "metadata": {},
     "output_type": "execute_result"
    }
   ],
   "source": [
    "a[::-1]"
   ]
  },
  {
   "cell_type": "markdown",
   "metadata": {},
   "source": [
    "6. Создать матрицу 3х3 с элементами от 0 до 8 (★☆☆)\n",
    "\n",
    "(hint: reshape)"
   ]
  },
  {
   "cell_type": "code",
   "execution_count": 26,
   "metadata": {},
   "outputs": [
    {
     "data": {
      "text/plain": [
       "array([[0, 1, 2],\n",
       "       [3, 4, 5],\n",
       "       [6, 7, 8]])"
      ]
     },
     "execution_count": 26,
     "metadata": {},
     "output_type": "execute_result"
    }
   ],
   "source": [
    "b = np.arange(9)\n",
    "b.reshape(3,3)"
   ]
  },
  {
   "cell_type": "markdown",
   "metadata": {},
   "source": [
    "7. Найти индексы не нулевых эемелентов в numpy array [1,2,0,0,4,0] (★☆☆)\n",
    "\n",
    "(hint: np.nonzero)"
   ]
  },
  {
   "cell_type": "code",
   "execution_count": 30,
   "metadata": {},
   "outputs": [
    {
     "name": "stdout",
     "output_type": "stream",
     "text": [
      "(array([0, 1, 4]),)\n"
     ]
    }
   ],
   "source": [
    "c = np.array([1,2,0,0,4,0])\n",
    "print(np.nonzero(c))"
   ]
  },
  {
   "cell_type": "markdown",
   "metadata": {},
   "source": [
    "8. Создать матрицу 10x10 array с рандомными числами и найти минимум, максимум и среднее (★☆☆)"
   ]
  },
  {
   "cell_type": "code",
   "execution_count": 108,
   "metadata": {
    "collapsed": true
   },
   "outputs": [
    {
     "name": "stdout",
     "output_type": "stream",
     "text": [
      "[[0.15994994 0.48759214 0.58673181 0.8489948  0.4979289  0.79576131\n",
      "  0.41956332 0.09563576 0.36392492 0.80830322]\n",
      " [0.37788919 0.27921726 0.97449075 0.21932132 0.02116567 0.32832055\n",
      "  0.38093536 0.88568751 0.3566113  0.3260133 ]\n",
      " [0.64353042 0.38237015 0.39816778 0.32244735 0.64812904 0.18591992\n",
      "  0.36462645 0.17683188 0.8257539  0.72682573]\n",
      " [0.85576798 0.29010133 0.29937209 0.88606717 0.34467456 0.12669749\n",
      "  0.44602747 0.58703305 0.72262413 0.48573741]\n",
      " [0.36125408 0.9735027  0.73452354 0.8622245  0.63340292 0.48772839\n",
      "  0.57088879 0.73342728 0.49985073 0.62261323]\n",
      " [0.96433959 0.04660307 0.09684119 0.78841107 0.91703928 0.90732463\n",
      "  0.35429626 0.83428096 0.84213495 0.10220594]\n",
      " [0.59640648 0.11464886 0.42679297 0.33674021 0.28588207 0.30678834\n",
      "  0.24632436 0.7603097  0.606188   0.91925727]\n",
      " [0.9113526  0.81617416 0.70098542 0.71357403 0.7728034  0.07973803\n",
      "  0.23866059 0.68013993 0.66108495 0.03414113]\n",
      " [0.60074645 0.68954246 0.16556696 0.30040682 0.2437618  0.34760545\n",
      "  0.47735596 0.61528614 0.9834782  0.71661707]\n",
      " [0.50044435 0.53989089 0.30710247 0.42744084 0.57994444 0.88643772\n",
      "  0.49765341 0.24059972 0.14709964 0.84233156]]\n",
      "Maximum =  0.9834782045144512\n",
      "Minimum =  0.021165672726675355\n",
      "Mean =  0.5158294159160731\n"
     ]
    }
   ],
   "source": [
    "d = np.random.random((10,10))\n",
    "print(d)\n",
    "print(\"Maximum = \", np.max(d))\n",
    "print(\"Minimum = \", np.min(d))\n",
    "print(\"Mean = \", np.mean(d))"
   ]
  },
  {
   "cell_type": "markdown",
   "metadata": {},
   "source": [
    "9. Создать матрицу 8x8 и заполнить 0 и 1 в стиле шахматной доски (★☆☆)\n",
    "\n",
    "(hint: array[::n])"
   ]
  },
  {
   "cell_type": "code",
   "execution_count": 142,
   "metadata": {},
   "outputs": [
    {
     "data": {
      "text/plain": [
       "array([[1., 0., 1., 0., 1., 0., 1., 0.],\n",
       "       [0., 1., 0., 1., 0., 1., 0., 1.],\n",
       "       [1., 0., 1., 0., 1., 0., 1., 0.],\n",
       "       [0., 1., 0., 1., 0., 1., 0., 1.],\n",
       "       [1., 0., 1., 0., 1., 0., 1., 0.],\n",
       "       [0., 1., 0., 1., 0., 1., 0., 1.],\n",
       "       [1., 0., 1., 0., 1., 0., 1., 0.],\n",
       "       [0., 1., 0., 1., 0., 1., 0., 1.]])"
      ]
     },
     "execution_count": 142,
     "metadata": {},
     "output_type": "execute_result"
    }
   ],
   "source": [
    "kek = np.zeros((8,8))\n",
    "kek[0::2,0::2] = 1\n",
    "kek[1::2,1::2] = 1\n",
    "kek"
   ]
  },
  {
   "cell_type": "markdown",
   "metadata": {},
   "source": [
    "10. Нормализовать рандомную матрицу 5x5 (★☆☆)\n",
    "\n",
    "(hint: (x - mean) / std)"
   ]
  },
  {
   "cell_type": "code",
   "execution_count": 47,
   "metadata": {},
   "outputs": [
    {
     "data": {
      "text/plain": [
       "array([[ 0.85906129, -0.58800986,  1.4389594 , -1.42862747, -0.2700278 ],\n",
       "       [ 0.44415547, -0.02914952, -1.17168382, -0.18580471,  0.44864599],\n",
       "       [ 1.68469618, -0.23687396,  1.68776793,  1.54898776,  0.97761695],\n",
       "       [ 0.04564665, -0.83457014, -1.47658527,  0.06454069, -1.43786154],\n",
       "       [-1.07037411,  0.29017678, -1.52666199,  0.48918232,  0.27679279]])"
      ]
     },
     "execution_count": 47,
     "metadata": {},
     "output_type": "execute_result"
    }
   ],
   "source": [
    "f = np.random.random((5,5))\n",
    "(f-np.mean(f))/np.std(f)"
   ]
  },
  {
   "cell_type": "markdown",
   "metadata": {},
   "source": [
    "11. Найти общие элементы между двумя массивами\n",
    "\n",
    "(hint: np.intersect1d)"
   ]
  },
  {
   "cell_type": "code",
   "execution_count": 48,
   "metadata": {},
   "outputs": [
    {
     "data": {
      "text/plain": [
       "array([0., 1.])"
      ]
     },
     "execution_count": 48,
     "metadata": {},
     "output_type": "execute_result"
    }
   ],
   "source": [
    "np.intersect1d(c,one)"
   ]
  },
  {
   "cell_type": "markdown",
   "metadata": {},
   "source": [
    "12. Извлечь целую часть рандомного массива чисел различными способами (максимум 5) (★★☆)"
   ]
  },
  {
   "cell_type": "code",
   "execution_count": 43,
   "metadata": {},
   "outputs": [
    {
     "ename": "TypeError",
     "evalue": "only size-1 arrays can be converted to Python scalars",
     "output_type": "error",
     "traceback": [
      "\u001b[0;31m---------------------------------------------------------------------------\u001b[0m",
      "\u001b[0;31mTypeError\u001b[0m                                 Traceback (most recent call last)",
      "\u001b[0;32m<ipython-input-43-c078ebc896e3>\u001b[0m in \u001b[0;36m<module>\u001b[0;34m\u001b[0m\n\u001b[1;32m      1\u001b[0m \u001b[0ma\u001b[0m \u001b[0;34m=\u001b[0m \u001b[0mnp\u001b[0m\u001b[0;34m.\u001b[0m\u001b[0mrandom\u001b[0m\u001b[0;34m.\u001b[0m\u001b[0muniform\u001b[0m\u001b[0;34m(\u001b[0m\u001b[0;36m2\u001b[0m\u001b[0;34m,\u001b[0m \u001b[0;36m8\u001b[0m\u001b[0;34m,\u001b[0m \u001b[0;34m(\u001b[0m\u001b[0;36m10\u001b[0m\u001b[0;34m)\u001b[0m\u001b[0;34m)\u001b[0m\u001b[0;34m\u001b[0m\u001b[0;34m\u001b[0m\u001b[0m\n\u001b[1;32m      2\u001b[0m \u001b[0;31m# a.astype(int)\u001b[0m\u001b[0;34m\u001b[0m\u001b[0;34m\u001b[0m\u001b[0;34m\u001b[0m\u001b[0m\n\u001b[0;32m----> 3\u001b[0;31m \u001b[0ma\u001b[0m \u001b[0;34m=\u001b[0m \u001b[0mint\u001b[0m\u001b[0;34m(\u001b[0m\u001b[0ma\u001b[0m\u001b[0;34m)\u001b[0m\u001b[0;34m\u001b[0m\u001b[0;34m\u001b[0m\u001b[0m\n\u001b[0m",
      "\u001b[0;31mTypeError\u001b[0m: only size-1 arrays can be converted to Python scalars"
     ]
    }
   ],
   "source": [
    "a = np.random.uniform(2, 8, (10))\n",
    "# a.astype(int)"
   ]
  },
  {
   "cell_type": "markdown",
   "metadata": {},
   "source": [
    "13. Создать рандомный вектор размера 10 и отсортировать его (★★☆)"
   ]
  },
  {
   "cell_type": "code",
   "execution_count": 54,
   "metadata": {},
   "outputs": [
    {
     "name": "stdout",
     "output_type": "stream",
     "text": [
      "[0.07362361 0.18765833 0.19468567 0.35881699 0.40837204 0.55313578\n",
      " 0.6211777  0.77810862 0.86655838 0.97576619]\n"
     ]
    }
   ],
   "source": [
    "e = np.random.random(10)\n",
    "print(np.sort(e))"
   ]
  },
  {
   "cell_type": "markdown",
   "metadata": {},
   "source": [
    "14. Проверить одинаковы ли два рандомных массива А и B (★★☆)\n",
    "\n",
    "(hint: np.allclose, np.array_equal)"
   ]
  },
  {
   "cell_type": "code",
   "execution_count": 69,
   "metadata": {},
   "outputs": [
    {
     "name": "stdout",
     "output_type": "stream",
     "text": [
      "[0.44000481 0.42244925 0.24993632 0.4553637  0.59689669 0.8336787\n",
      " 0.30899027 0.04768328 0.84448274 0.30154856]\n",
      "[0.46080582 0.39034466 0.73639165 0.30806164 0.96901094 0.21909708\n",
      " 0.25380463 0.25832796 0.43706285 0.19093511]\n"
     ]
    },
    {
     "data": {
      "text/plain": [
       "False"
      ]
     },
     "execution_count": 69,
     "metadata": {},
     "output_type": "execute_result"
    }
   ],
   "source": [
    "A = np.random.rand(10)\n",
    "B = np.random.rand(10)\n",
    "print(A)\n",
    "print(B)\n",
    "np.array_equal(A,B)"
   ]
  },
  {
   "cell_type": "markdown",
   "metadata": {},
   "source": [
    "15. Создать рандомный ветор размером 10 и максимальный элемент заменить на -1 (★★☆)\n",
    "\n",
    "(hint: argmax)"
   ]
  },
  {
   "cell_type": "code",
   "execution_count": 9,
   "metadata": {},
   "outputs": [
    {
     "name": "stdout",
     "output_type": "stream",
     "text": [
      "[0.92031119 0.48628596 0.20403001 0.27982763 0.55255807 0.42839039\n",
      " 0.39917701 0.1401623  0.10147368 0.42270765]\n",
      "0\n",
      "[-1.          0.48628596  0.20403001  0.27982763  0.55255807  0.42839039\n",
      "  0.39917701  0.1401623   0.10147368  0.42270765]\n"
     ]
    }
   ],
   "source": [
    "p = np.random.random(10)\n",
    "print(p)\n",
    "print(np.argmax(p))\n",
    "p[np.argmax(p)] = -1\n",
    "print(p)"
   ]
  },
  {
   "cell_type": "markdown",
   "metadata": {},
   "source": [
    "16. Найдите самый близкий элемент к данному рандомному числу в векторе? (★★☆)\n",
    "\n",
    "(hint: argmin)"
   ]
  },
  {
   "cell_type": "code",
   "execution_count": 168,
   "metadata": {},
   "outputs": [
    {
     "name": "stdout",
     "output_type": "stream",
     "text": [
      "[0 1 2 3 4 5 6 7 8 9]\n",
      "4.96309302236046\n",
      "[       inf 4.96309302 2.48154651 1.65436434 1.24077326 0.9926186\n",
      " 0.82718217 0.70901329 0.62038663 0.55145478]\n"
     ]
    },
    {
     "name": "stderr",
     "output_type": "stream",
     "text": [
      "/Library/Frameworks/Python.framework/Versions/3.7/lib/python3.7/site-packages/ipykernel_launcher.py:5: RuntimeWarning: divide by zero encountered in true_divide\n",
      "  \"\"\"\n"
     ]
    }
   ],
   "source": [
    "Z = np.arange(10)\n",
    "v = np.random.uniform(0,10)\n",
    "print(Z)\n",
    "print(v)\n",
    "index =  v/Z\n",
    "index.astype(float) \n",
    "print(index)\n",
    "# print(Z[index])\n",
    "# index.argmin()\n"
   ]
  },
  {
   "cell_type": "markdown",
   "metadata": {},
   "source": [
    "17. Посчитать среднее для каждой строки матрицы (★★☆)"
   ]
  },
  {
   "cell_type": "code",
   "execution_count": 107,
   "metadata": {},
   "outputs": [
    {
     "name": "stdout",
     "output_type": "stream",
     "text": [
      "[[ 0  1  2  3  4  5  6  7  8  9]\n",
      " [10 11 12 13 14 15 16 17 18 19]\n",
      " [20 21 22 23 24 25 26 27 28 29]\n",
      " [30 31 32 33 34 35 36 37 38 39]\n",
      " [40 41 42 43 44 45 46 47 48 49]\n",
      " [50 51 52 53 54 55 56 57 58 59]\n",
      " [60 61 62 63 64 65 66 67 68 69]\n",
      " [70 71 72 73 74 75 76 77 78 79]\n",
      " [80 81 82 83 84 85 86 87 88 89]\n",
      " [90 91 92 93 94 95 96 97 98 99]]\n"
     ]
    },
    {
     "data": {
      "text/plain": [
       "array([ 4.5, 14.5, 24.5, 34.5, 44.5, 54.5, 64.5, 74.5, 84.5, 94.5])"
      ]
     },
     "execution_count": 107,
     "metadata": {},
     "output_type": "execute_result"
    }
   ],
   "source": [
    "Z = np.arange(100)\n",
    "K = Z.reshape(10,10)\n",
    "print(K)\n",
    "np.mean(K[:,:10], axis = 1)"
   ]
  },
  {
   "cell_type": "markdown",
   "metadata": {},
   "source": [
    "18. Посчитать среднее со скользящим окном над массивом (★★★)\n",
    "\n",
    "(hint: np.cumsum)"
   ]
  },
  {
   "cell_type": "code",
   "execution_count": 120,
   "metadata": {},
   "outputs": [
    {
     "ename": "NameError",
     "evalue": "name 'hzzzz' is not defined",
     "output_type": "error",
     "traceback": [
      "\u001b[0;31m---------------------------------------------------------------------------\u001b[0m",
      "\u001b[0;31mNameError\u001b[0m                                 Traceback (most recent call last)",
      "\u001b[0;32m<ipython-input-120-89fcf24026f7>\u001b[0m in \u001b[0;36m<module>\u001b[0;34m\u001b[0m\n\u001b[1;32m      1\u001b[0m \u001b[0mnp\u001b[0m\u001b[0;34m.\u001b[0m\u001b[0mcumsum\u001b[0m\u001b[0;34m(\u001b[0m\u001b[0mK\u001b[0m\u001b[0;34m)\u001b[0m\u001b[0;34m\u001b[0m\u001b[0;34m\u001b[0m\u001b[0m\n\u001b[0;32m----> 2\u001b[0;31m \u001b[0mhzzzz\u001b[0m\u001b[0;34m\u001b[0m\u001b[0;34m\u001b[0m\u001b[0m\n\u001b[0m",
      "\u001b[0;31mNameError\u001b[0m: name 'hzzzz' is not defined"
     ]
    }
   ],
   "source": [
    "np.cumsum(K)\n",
    "hzzzz"
   ]
  },
  {
   "cell_type": "markdown",
   "metadata": {},
   "source": [
    "<img src=\"gifs/bender.gif\" width=\"400\">"
   ]
  },
  {
   "cell_type": "markdown",
   "metadata": {},
   "source": [
    "# Regular expressions\n",
    "\n",
    "* Cупер статья на все времена. Особенно понятно все про такие сложные штуки как lookaround. \n",
    "\n",
    "https://habr.com/ru/post/349860/\n",
    "\n",
    "* На этом сайте удобно тестировать регулярку, которую мучаешь, можно написать несколько примеров и тестировать на них. Важно не забывать выбирать Python:\n",
    "\n",
    "https://regex101.com/\n",
    "\n",
    "* Задания на регулярки, начинай с того, которое уже кажется сложным, можешь запихнуть их в этот ноутбук)\n",
    "\n",
    "https://regexone.com/"
   ]
  },
  {
   "cell_type": "markdown",
   "metadata": {},
   "source": [
    "1. Из строки в файле data/rejson.txt вытащить хэш. Пример:\n",
    "\n",
    "'master_guid': '<b>233880bb4c50d247f84edc9cac9e6e29</b>_2308194320'"
   ]
  },
  {
   "cell_type": "code",
   "execution_count": 169,
   "metadata": {},
   "outputs": [],
   "source": [
    "import re\n",
    "reg = open('data/rejson.txt')\n"
   ]
  },
  {
   "cell_type": "markdown",
   "metadata": {},
   "source": [
    "# Pandas"
   ]
  },
  {
   "cell_type": "markdown",
   "metadata": {},
   "source": [
    "* Pandas в картинках\n",
    "\n",
    "https://jalammar.github.io/gentle-visual-intro-to-data-analysis-python-pandas/\n",
    "\n",
    "* 10 minutes to pandas\n",
    "\n",
    "https://pandas.pydata.org/pandas-docs/stable/getting_started/10min.html\n",
    "\n",
    "* 🐼реально классный твиттер чувака с крутыми pandas tricks:\n",
    "    \n",
    "https://mobile.twitter.com/i/moments/1158828895547854849"
   ]
  },
  {
   "cell_type": "markdown",
   "metadata": {},
   "source": [
    "<img src=\"gifs/inprogress.gif\" width=\"400\">"
   ]
  }
 ],
 "metadata": {
  "kernelspec": {
   "display_name": "Python 3",
   "language": "python",
   "name": "python3"
  },
  "language_info": {
   "codemirror_mode": {
    "name": "ipython",
    "version": 3
   },
   "file_extension": ".py",
   "mimetype": "text/x-python",
   "name": "python",
   "nbconvert_exporter": "python",
   "pygments_lexer": "ipython3",
   "version": "3.7.4"
  }
 },
 "nbformat": 4,
 "nbformat_minor": 2
}
